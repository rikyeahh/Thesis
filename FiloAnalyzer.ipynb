{
 "cells": [
  {
   "cell_type": "code",
   "execution_count": 25,
   "metadata": {},
   "outputs": [],
   "source": [
    "import numpy as np\n",
    "import numpy as np\n",
    "import matplotlib.pyplot as plt\n",
    "import cv2\n",
    "import copy\n",
    "from scipy import ndimage as ndi\n",
    "import tqdm"
   ]
  },
  {
   "cell_type": "code",
   "execution_count": 26,
   "metadata": {},
   "outputs": [],
   "source": [
    "def adjust_gamma(image, gamma=1.0):\n",
    "    invGamma = 1.0 / gamma\n",
    "    table = np.array([((l / 255.0) ** invGamma) * 255 for l in np.arange(0, 256)]).astype(\"uint8\")\n",
    "    # apply gamma correction using the lookup table\n",
    "    return cv2.LUT(image.astype(np.uint8), table)"
   ]
  },
  {
   "cell_type": "code",
   "execution_count": 32,
   "metadata": {},
   "outputs": [],
   "source": [
    "def FiloAnalyzer_full(img, threshold_method, erosion, dilation, filopodia_area_threshold, gamma):\n",
    "\n",
    "    # PREPROCESSING\n",
    "    if len(img.shape) > 2:\n",
    "        body = img[:,:,0]\n",
    "    else:\n",
    "        body = img\n",
    "    body[body < 0.3 * np.mean((body))] = 0\n",
    "    body = cv2.GaussianBlur(body, (5, 5), 1)\n",
    "    body = adjust_gamma(body, gamma=gamma)\n",
    "\n",
    "    # SEGMENTATION\n",
    "    if threshold_method == \"automatic\":\n",
    "        test = copy.copy(body)\n",
    "        body = cv2.adaptiveThreshold(test, 255, cv2.ADAPTIVE_THRESH_MEAN_C, cv2.THRESH_BINARY, 655, 5)\n",
    "        body = cv2.morphologyEx(body, cv2.MORPH_ERODE, cv2.getStructuringElement(cv2.MORPH_ELLIPSE, (5, 5)))\n",
    "        body = ndi.binary_fill_holes(body).astype(np.uint8)\n",
    "        x, _ = cv2.findContours(body, cv2.RETR_EXTERNAL, cv2.CHAIN_APPROX_NONE)\n",
    "        body = np.zeros_like(body)\n",
    "        for i in x:\n",
    "            mom = cv2.moments(i)\n",
    "            area = mom['m00']\n",
    "            if area > 10000 and area < 2000000:\n",
    "                cv2.drawContours(body, [i], -1, (255, 144, 255), -1)\n",
    "    elif threshold_method == \"triangle\":\n",
    "        test = copy.copy(body)\n",
    "        hist = np.histogram(body.ravel(), bins=256, range=(0.0, 255))\n",
    "        ret, body = cv2.threshold(body, 42, 255, cv2.THRESH_BINARY + cv2.THRESH_TRIANGLE)\n",
    "        s = hist[0][int(ret):int(ret) + 12]\n",
    "        s[np.where(s == 0)] = np.max(s)\n",
    "        t = np.argmin(s) + int(ret)\n",
    "        ret, body = cv2.threshold(test, t, 255, cv2.THRESH_BINARY)\n",
    "        body = ndi.binary_fill_holes(body).astype(np.uint8)\n",
    "    else:\n",
    "        ret, body = cv2.threshold(body, threshold_method, 255, cv2.THRESH_BINARY)\n",
    "    \n",
    "    thresholded_image = copy.deepcopy(body)\n",
    "    \n",
    "    nucleus = cv2.morphologyEx(body, cv2.MORPH_ERODE, cv2.getStructuringElement(cv2.MORPH_ELLIPSE, (erosion, erosion)))\n",
    "    nucleus = cv2.morphologyEx(nucleus, cv2.MORPH_DILATE, cv2.getStructuringElement(cv2.MORPH_ELLIPSE, (dilation, dilation)))\n",
    "    body[nucleus != 0] = 0\n",
    "\n",
    "    opened_image = copy.deepcopy(body)\n",
    "\n",
    "    # EXTRACT ONLY BIGGEST AND ELONGATED CONTOURS\n",
    "    result = np.zeros_like(body)\n",
    "    x, _ = cv2.findContours(body.astype(np.uint8), cv2.RETR_EXTERNAL, cv2.CHAIN_APPROX_NONE)\n",
    "    for i in x:\n",
    "        moments = cv2.moments(i)\n",
    "        area = moments['m00']\n",
    "        if area > filopodia_area_threshold and area < 200000:\n",
    "            if moments['m00'] != 0.0:\n",
    "                ellip = cv2.fitEllipse(i)\n",
    "                (_, axes, _) = ellip\n",
    "                major_axis = max(axes)\n",
    "                minor_axis = min(axes)\n",
    "                if np.sqrt(1 - (minor_axis * minor_axis) / (major_axis * major_axis)) > 0.7:\n",
    "                    cv2.drawContours(result, [i], -1, 1, -1)\n",
    "\n",
    "    return thresholded_image, opened_image, result"
   ]
  },
  {
   "cell_type": "code",
   "execution_count": 33,
   "metadata": {},
   "outputs": [
    {
     "name": "stderr",
     "output_type": "stream",
     "text": [
      "100%|██████████| 245/245 [00:29<00:00,  8.32it/s]\n"
     ]
    }
   ],
   "source": [
    "import os\n",
    "\n",
    "def analyze_and_save_images(folder_path):\n",
    "    for filename in tqdm.tqdm(os.listdir(folder_path)):\n",
    "        if os.path.isfile(os.path.join(folder_path, filename)) and filename.lower().endswith((\".png\", \".jpg\", \".jpeg\", \".tif\", \".tiff\")):\n",
    "            # Get the image name without extension\n",
    "            image_name, _ = os.path.splitext(filename)\n",
    "            image_to_read = os.path.join(folder_path, filename)\n",
    "            img = cv2.imread(image_to_read)\n",
    "            \n",
    "            # Apply FiloAnalyzer_full function on the image\n",
    "            result = FiloAnalyzer_full(img, \"triangle\", 20, 20, 20, 1)[2] * 255\n",
    "            \n",
    "            # Create the output filename with .tif extension\n",
    "            output_filename = os.path.join(r'C:\\Users\\ricca\\Desktop\\Thesis\\toolsData\\FiloAnalyzer320', f\"{image_name}.tif\")\n",
    "            \n",
    "            cv2.imwrite(output_filename, result)\n",
    "\n",
    "analyze_and_save_images('dataset\\images')\n"
   ]
  },
  {
   "cell_type": "code",
   "execution_count": null,
   "metadata": {},
   "outputs": [],
   "source": []
  }
 ],
 "metadata": {
  "kernelspec": {
   "display_name": "Python 3",
   "language": "python",
   "name": "python3"
  },
  "language_info": {
   "codemirror_mode": {
    "name": "ipython",
    "version": 3
   },
   "file_extension": ".py",
   "mimetype": "text/x-python",
   "name": "python",
   "nbconvert_exporter": "python",
   "pygments_lexer": "ipython3",
   "version": "3.9.13"
  }
 },
 "nbformat": 4,
 "nbformat_minor": 2
}
